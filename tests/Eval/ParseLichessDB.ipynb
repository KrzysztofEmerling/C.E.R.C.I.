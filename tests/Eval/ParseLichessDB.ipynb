{
 "cells": [
  {
   "cell_type": "code",
   "execution_count": 5,
   "id": "11c51eb3",
   "metadata": {},
   "outputs": [
    {
     "name": "stdout",
     "output_type": "stream",
     "text": [
      "Liczba partii: 5801234\n"
     ]
    }
   ],
   "source": [
    "pgn_path = \"./LichessDB/lichess_db_standard_rated_2016-03.pgn\"\n",
    "output_path = \"./filtered_positions.txt\"\n",
    "def count_games(pgn_path):\n",
    "    count = 0\n",
    "    with open(pgn_path, \"r\", encoding=\"utf-8\") as f:\n",
    "        for line in f:\n",
    "            if line.startswith(\"[Termination\"):\n",
    "                count += 1\n",
    "    return count\n",
    "\n",
    "num_games = count_games(pgn_path)\n",
    "print(f\"Liczba partii: {num_games}\")"
   ]
  },
  {
   "cell_type": "code",
   "execution_count": null,
   "id": "f623bb75",
   "metadata": {},
   "outputs": [
    {
     "name": "stderr",
     "output_type": "stream",
     "text": [
      "Processing games:   0%|          | 706/5801234 [02:21<321:53:48,  5.01it/s]\n"
     ]
    },
    {
     "ename": "KeyboardInterrupt",
     "evalue": "",
     "output_type": "error",
     "traceback": [
      "\u001b[31m---------------------------------------------------------------------------\u001b[39m",
      "\u001b[31mKeyboardInterrupt\u001b[39m                         Traceback (most recent call last)",
      "\u001b[36mCell\u001b[39m\u001b[36m \u001b[39m\u001b[32mIn[6]\u001b[39m\u001b[32m, line 24\u001b[39m\n\u001b[32m     22\u001b[39m moves.append(move.uci())\n\u001b[32m     23\u001b[39m \u001b[38;5;28;01mif\u001b[39;00m i == \u001b[32m11\u001b[39m:\n\u001b[32m---> \u001b[39m\u001b[32m24\u001b[39m     info = \u001b[43mengine\u001b[49m\u001b[43m.\u001b[49m\u001b[43manalyse\u001b[49m\u001b[43m(\u001b[49m\u001b[43mboard\u001b[49m\u001b[43m,\u001b[49m\u001b[43m \u001b[49m\u001b[43mchess\u001b[49m\u001b[43m.\u001b[49m\u001b[43mengine\u001b[49m\u001b[43m.\u001b[49m\u001b[43mLimit\u001b[49m\u001b[43m(\u001b[49m\u001b[43mtime\u001b[49m\u001b[43m=\u001b[49m\u001b[32;43m0.2\u001b[39;49m\u001b[43m)\u001b[49m\u001b[43m)\u001b[49m\n\u001b[32m     25\u001b[39m     score = info[\u001b[33m\"\u001b[39m\u001b[33mscore\u001b[39m\u001b[33m\"\u001b[39m].white() \n\u001b[32m     27\u001b[39m     \u001b[38;5;28;01mif\u001b[39;00m \u001b[38;5;129;01mnot\u001b[39;00m score.is_mate():\n",
      "\u001b[36mFile \u001b[39m\u001b[32m~/Documents/C.E.R.C.I./ChessEnv/lib/python3.12/site-packages/chess/engine.py:2994\u001b[39m, in \u001b[36mSimpleEngine.analyse\u001b[39m\u001b[34m(self, board, limit, multipv, game, info, root_moves, options)\u001b[39m\n\u001b[32m   2990\u001b[39m     coro = asyncio.wait_for(\n\u001b[32m   2991\u001b[39m         \u001b[38;5;28mself\u001b[39m.protocol.analyse(board, limit, multipv=multipv, game=game, info=info, root_moves=root_moves, options=options),\n\u001b[32m   2992\u001b[39m         \u001b[38;5;28mself\u001b[39m._timeout_for(limit))\n\u001b[32m   2993\u001b[39m     future = asyncio.run_coroutine_threadsafe(coro, \u001b[38;5;28mself\u001b[39m.protocol.loop)\n\u001b[32m-> \u001b[39m\u001b[32m2994\u001b[39m \u001b[38;5;28;01mreturn\u001b[39;00m \u001b[43mfuture\u001b[49m\u001b[43m.\u001b[49m\u001b[43mresult\u001b[49m\u001b[43m(\u001b[49m\u001b[43m)\u001b[49m\n",
      "\u001b[36mFile \u001b[39m\u001b[32m/usr/lib/python3.12/concurrent/futures/_base.py:451\u001b[39m, in \u001b[36mFuture.result\u001b[39m\u001b[34m(self, timeout)\u001b[39m\n\u001b[32m    448\u001b[39m \u001b[38;5;28;01melif\u001b[39;00m \u001b[38;5;28mself\u001b[39m._state == FINISHED:\n\u001b[32m    449\u001b[39m     \u001b[38;5;28;01mreturn\u001b[39;00m \u001b[38;5;28mself\u001b[39m.__get_result()\n\u001b[32m--> \u001b[39m\u001b[32m451\u001b[39m \u001b[38;5;28;43mself\u001b[39;49m\u001b[43m.\u001b[49m\u001b[43m_condition\u001b[49m\u001b[43m.\u001b[49m\u001b[43mwait\u001b[49m\u001b[43m(\u001b[49m\u001b[43mtimeout\u001b[49m\u001b[43m)\u001b[49m\n\u001b[32m    453\u001b[39m \u001b[38;5;28;01mif\u001b[39;00m \u001b[38;5;28mself\u001b[39m._state \u001b[38;5;129;01min\u001b[39;00m [CANCELLED, CANCELLED_AND_NOTIFIED]:\n\u001b[32m    454\u001b[39m     \u001b[38;5;28;01mraise\u001b[39;00m CancelledError()\n",
      "\u001b[36mFile \u001b[39m\u001b[32m/usr/lib/python3.12/threading.py:355\u001b[39m, in \u001b[36mCondition.wait\u001b[39m\u001b[34m(self, timeout)\u001b[39m\n\u001b[32m    353\u001b[39m \u001b[38;5;28;01mtry\u001b[39;00m:    \u001b[38;5;66;03m# restore state no matter what (e.g., KeyboardInterrupt)\u001b[39;00m\n\u001b[32m    354\u001b[39m     \u001b[38;5;28;01mif\u001b[39;00m timeout \u001b[38;5;129;01mis\u001b[39;00m \u001b[38;5;28;01mNone\u001b[39;00m:\n\u001b[32m--> \u001b[39m\u001b[32m355\u001b[39m         \u001b[43mwaiter\u001b[49m\u001b[43m.\u001b[49m\u001b[43macquire\u001b[49m\u001b[43m(\u001b[49m\u001b[43m)\u001b[49m\n\u001b[32m    356\u001b[39m         gotit = \u001b[38;5;28;01mTrue\u001b[39;00m\n\u001b[32m    357\u001b[39m     \u001b[38;5;28;01melse\u001b[39;00m:\n",
      "\u001b[31mKeyboardInterrupt\u001b[39m: "
     ]
    }
   ],
   "source": [
    "import chess\n",
    "import chess.pgn\n",
    "import chess.engine\n",
    "from tqdm import tqdm\n",
    "\n",
    "\n",
    "engine = chess.engine.SimpleEngine.popen_uci(\"/usr/games/stockfish\")\n",
    "\n",
    "\n",
    "gameSets = set()\n",
    "with open(pgn_path) as pgn, open(output_path, \"w\") as outfile:\n",
    "    for _ in tqdm(range(num_games), desc=\"Processing games\"):\n",
    "        game = chess.pgn.read_game(pgn)\n",
    "        if game is None:\n",
    "            break\n",
    "        \n",
    "        board = game.board()\n",
    "        moves = []\n",
    "        \n",
    "        for i, move in enumerate(game.mainline_moves()):\n",
    "            board.push(move)\n",
    "            moves.append(move.uci())\n",
    "            if i == 11:\n",
    "                info = engine.analyse(board, chess.engine.Limit(time=0.2))\n",
    "                score = info[\"score\"].white() \n",
    "                \n",
    "                if not score.is_mate():\n",
    "                    cp = score.score()\n",
    "                    if cp is not None and abs(cp) <= 20:\n",
    "                        moves_str = \" \".join(moves)\n",
    "                        fen_string = board.fen()\n",
    "                        if(fen_string in gameSets):\n",
    "                            continue\n",
    "                        else:\n",
    "                            outfile.write(f\"{fen_string}\\n\")\n",
    "                            gameSets.add(fen_string)\n",
    "                break\n",
    "\n",
    "\n",
    "engine.quit()"
   ]
  },
  {
   "cell_type": "code",
   "execution_count": null,
   "id": "a742d3ce",
   "metadata": {},
   "outputs": [],
   "source": []
  }
 ],
 "metadata": {
  "kernelspec": {
   "display_name": "ChessEnv",
   "language": "python",
   "name": "chessenv"
  },
  "language_info": {
   "codemirror_mode": {
    "name": "ipython",
    "version": 3
   },
   "file_extension": ".py",
   "mimetype": "text/x-python",
   "name": "python",
   "nbconvert_exporter": "python",
   "pygments_lexer": "ipython3",
   "version": "3.12.3"
  }
 },
 "nbformat": 4,
 "nbformat_minor": 5
}
