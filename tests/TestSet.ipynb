{
 "cells": [
  {
   "cell_type": "code",
   "execution_count": null,
   "id": "bf1fea18",
   "metadata": {},
   "outputs": [],
   "source": [
    "import os\n",
    "\n",
    "from MoveGenerator.Perftest import *\n",
    "from Eval.EndgameTest import *\n",
    "from Eval.ImprovementTest import *\n",
    "\n",
    "engine = [\"../build/CERCI-ChessEngine\", \"CERCI-Baseline\"]\n",
    "\n",
    "results_folder = \".results\"\n",
    "if not os.path.exists(results_folder):\n",
    "    os.makedirs(results_folder)"
   ]
  },
  {
   "cell_type": "code",
   "execution_count": null,
   "id": "7b1488d7",
   "metadata": {},
   "outputs": [
    {
     "name": "stdout",
     "output_type": "stream",
     "text": [
      "--------------------------------------------------------------------------------\n",
      "Move Generation Performence Test\n",
      "--------------------------------------------------------------------------------\n",
      "FEN: rnbqkbnr/pppppppp/8/8/8/8/PPPPPPPP/RNBQKBNR w KQkq - 0 1\n",
      "Depth 1: nodes=20, nps=2643 PASSED\n",
      "Depth 2: nodes=400, nps=3207881 PASSED\n",
      "Depth 3: nodes=8902, nps=20835767 PASSED\n",
      "Depth 4: nodes=197281, nps=36674784 PASSED\n",
      "Depth 5: nodes=4865609, nps=38073198 PASSED\n",
      "Depth 6: nodes=119060324, nps=40653407 PASSED\n",
      "Depth 7: nodes=3195901860, nps=40506703 PASSED\n",
      "--------------------------------------------------------------------------------\n",
      "FEN: r3k2r/p1ppqpb1/bn2pnp1/3PN3/1p2P3/2N2Q1p/PPPBBPPP/R3K2R w KQkq - 0 1\n",
      "Depth 1: nodes=48, nps=280009 PASSED\n",
      "Depth 2: nodes=2039, nps=8753517 PASSED\n",
      "Depth 3: nodes=97862, nps=36333803 PASSED\n",
      "Depth 4: nodes=4085603, nps=40805091 PASSED\n",
      "Depth 5: nodes=193690690, nps=43020563 PASSED\n",
      "Depth 6: nodes=8031647685, nps=41402566 PASSED\n",
      "--------------------------------------------------------------------------------\n",
      "FEN: rnbq1k1r/pp1Pbppp/2p5/8/2B5/8/PPP1NnPP/RNBQK2R w KQ - 1 8\n",
      "Depth 1: nodes=44, nps=255609 PASSED\n",
      "Depth 2: nodes=1486, nps=7281233 PASSED\n",
      "Depth 3: nodes=62379, nps=35189844 PASSED\n",
      "Depth 4: nodes=2103487, nps=40173687 PASSED\n",
      "Depth 5: nodes=89941194, nps=41191146 PASSED\n",
      "--------------------------------------------------------------------------------\n",
      "FEN: r4rk1/1pp1qppp/p1np1n2/2b1p1B1/2B1P1b1/P1NP1N2/1PP1QPPP/R4RK1 w - - 0 10\n",
      "Depth 1: nodes=46, nps=294113 PASSED\n",
      "Depth 2: nodes=2079, nps=10582473 PASSED\n",
      "Depth 3: nodes=89890, nps=34331268 PASSED\n",
      "Depth 4: nodes=3894594, nps=41368641 PASSED\n",
      "Depth 5: nodes=164075551, nps=42654938 PASSED\n",
      "Depth 6: nodes=6923051137, nps=42564195 PASSED\n",
      "--------------------------------------------------------------------------------\n",
      "FEN: r3k2r/Pppp1ppp/1b3nbN/nP6/BBP1P3/q4N2/Pp1P2PP/R2Q1RK1 w kq - 0 1\n",
      "Depth 1: nodes=6, nps=43315 PASSED\n",
      "Depth 2: nodes=264, nps=2306867 PASSED\n",
      "Depth 3: nodes=9467, nps=23621342 PASSED\n",
      "Depth 4: nodes=422333, nps=27550166 PASSED\n",
      "Depth 5: nodes=15833292, nps=39889167 PASSED\n",
      "Depth 6: nodes=706045033, nps=41763356 PASSED\n",
      "--------------------------------------------------------------------------------\n",
      "FEN: 8/2p5/3p4/KP5r/1R3p1k/8/4P1P1/8 w - - 0 1\n",
      "Depth 1: nodes=14, nps=47935 PASSED\n",
      "Depth 2: nodes=191, nps=1238195 PASSED\n",
      "Depth 3: nodes=2812, nps=15005576 PASSED\n",
      "Depth 4: nodes=43238, nps=31827539 PASSED\n",
      "Depth 5: nodes=674624, nps=37231781 PASSED\n",
      "Depth 6: nodes=11030083, nps=38353433 PASSED\n",
      "--------------------------------------------------------------------------------\n",
      "Average nps: 41683054, Total time: 7min 47.0205s\n",
      "✅ PASSED\n",
      "--------------------------------------------------------------------------------\n"
     ]
    }
   ],
   "source": [
    "test_name = \"Perft\"\n",
    "\n",
    "filename = f\"{results_folder}/{engine[1]}-{test_name}.txt\"\n",
    "if os.path.isfile(filename):\n",
    "    with open(filename, \"r\", encoding=\"utf-8\") as f:\n",
    "        raport = f.read()\n",
    "else:\n",
    "    passed, report = run_perft_tests(engine[0])\n",
    "    with open(filename, \"w\", encoding=\"utf-8\") as f:\n",
    "        f.write(report)\n",
    "print(report)"
   ]
  },
  {
   "cell_type": "code",
   "execution_count": null,
   "id": "817f6b40",
   "metadata": {},
   "outputs": [
    {
     "name": "stdout",
     "output_type": "stream",
     "text": [
      "--------------------------------------------------------------------------------\n",
      "Typical Endings Test\n",
      "--------------------------------------------------------------------------------\n",
      "FEN: 1R6/RK6/8/8/8/8/6k1/8 b - - 0 1\n",
      "Moves used: 10 PASSED\n",
      "--------------------------------------------------------------------------------\n",
      "FEN: Q7/1K6/8/8/8/8/6k1/8 b - - 0 1\n",
      "Moves used: 61 FAILED\n",
      "--------------------------------------------------------------------------------\n",
      "FEN: K7/7Q/8/8/3k4/4p3/8/8 w - - 0 1\n",
      "Moves used: 64 FAILED\n",
      "--------------------------------------------------------------------------------\n",
      "FEN: R7/1K6/8/8/8/8/6k1/8 w - - 0 1\n",
      "Moves used: 54 FAILED\n",
      "--------------------------------------------------------------------------------\n",
      "FEN: R7/1KP5/8/8/8/8/6k1/7r w - - 0 1\n",
      "Moves used: 64 FAILED\n",
      "--------------------------------------------------------------------------------\n",
      "FEN: B7/BK6/8/8/8/8/6k1/8 b - - 0 1\n",
      "Moves used: 61 FAILED\n",
      "--------------------------------------------------------------------------------\n",
      "FEN: 1N6/BK6/8/8/8/8/6k1/8 b - - 0 1\n",
      "Moves used: 40 FAILED\n",
      "--------------------------------------------------------------------------------\n",
      "Total time: 4min 20.6878s\n",
      "❌ FAILED\n",
      "--------------------------------------------------------------------------------\n"
     ]
    }
   ],
   "source": [
    "test_name = \"Endings\"\n",
    "\n",
    "filename = f\"{results_folder}/{engine[1]}-{test_name}.txt\"\n",
    "if os.path.isfile(filename):\n",
    "    with open(filename, \"r\", encoding=\"utf-8\") as f:\n",
    "        raport = f.read()\n",
    "else:\n",
    "    passed, report = run_endgame_tests(engine[0])\n",
    "    with open(filename, \"w\", encoding=\"utf-8\") as f:\n",
    "        f.write(report)\n",
    "print(report)"
   ]
  },
  {
   "cell_type": "code",
   "execution_count": null,
   "id": "2201d700",
   "metadata": {},
   "outputs": [
    {
     "ename": "TimeoutError",
     "evalue": "",
     "output_type": "error",
     "traceback": [
      "\u001b[31m---------------------------------------------------------------------------\u001b[39m",
      "\u001b[31mTimeoutError\u001b[39m                              Traceback (most recent call last)",
      "\u001b[36mCell\u001b[39m\u001b[36m \u001b[39m\u001b[32mIn[5]\u001b[39m\u001b[32m, line 3\u001b[39m\n\u001b[32m      1\u001b[39m test_name = \u001b[33m\"\u001b[39m\u001b[33mImprovement\u001b[39m\u001b[33m\"\u001b[39m\n\u001b[32m----> \u001b[39m\u001b[32m3\u001b[39m report = \u001b[43mrun_improvement_tests\u001b[49m\u001b[43m(\u001b[49m\u001b[43mengine_path\u001b[49m\u001b[43m)\u001b[49m\n\u001b[32m      4\u001b[39m \u001b[38;5;28mprint\u001b[39m(report)\n",
      "\u001b[36mFile \u001b[39m\u001b[32m~/Documents/C.E.R.C.I./tests/Eval/ImprovementTest.py:76\u001b[39m, in \u001b[36mrun_improvement_tests\u001b[39m\u001b[34m(engine_path)\u001b[39m\n\u001b[32m     73\u001b[39m     board2.push_uci(move)\n\u001b[32m     74\u001b[39m report_lines.append(\u001b[33mf\u001b[39m\u001b[33m\"\u001b[39m\u001b[33mFEN: \u001b[39m\u001b[38;5;132;01m{\u001b[39;00mboard1.fen()\u001b[38;5;132;01m}\u001b[39;00m\u001b[33m\"\u001b[39m)\n\u001b[32m---> \u001b[39m\u001b[32m76\u001b[39m wresult, bresult = \u001b[43mtest\u001b[49m\u001b[43m(\u001b[49m\u001b[43mengine_path\u001b[49m\u001b[43m,\u001b[49m\u001b[43m \u001b[49m\u001b[43mboard1\u001b[49m\u001b[43m,\u001b[49m\u001b[43m \u001b[49m\u001b[43mboard2\u001b[49m\u001b[43m)\u001b[49m\n\u001b[32m     77\u001b[39m line = \u001b[33mf\u001b[39m\u001b[33m\"\u001b[39m\u001b[33mPlaying White: \u001b[39m\u001b[38;5;132;01m{\u001b[39;00mwresult\u001b[38;5;132;01m}\u001b[39;00m\u001b[33m Playing Black: \u001b[39m\u001b[38;5;132;01m{\u001b[39;00mbresult\u001b[38;5;132;01m}\u001b[39;00m\u001b[33m\"\u001b[39m\n\u001b[32m     78\u001b[39m \u001b[38;5;28;01mif\u001b[39;00m(wresult == \u001b[33m\"\u001b[39m\u001b[33m1-0\u001b[39m\u001b[33m\"\u001b[39m):\n",
      "\u001b[36mFile \u001b[39m\u001b[32m~/Documents/C.E.R.C.I./tests/Eval/ImprovementTest.py:29\u001b[39m, in \u001b[36mtest\u001b[39m\u001b[34m(engine_path, board1, board2)\u001b[39m\n\u001b[32m     27\u001b[39m     result = engine.play(board1, chess.engine.Limit(time=\u001b[32m0.2\u001b[39m))\n\u001b[32m     28\u001b[39m \u001b[38;5;28;01melse\u001b[39;00m:\n\u001b[32m---> \u001b[39m\u001b[32m29\u001b[39m     result = \u001b[43mengine_baseline\u001b[49m\u001b[43m.\u001b[49m\u001b[43mplay\u001b[49m\u001b[43m(\u001b[49m\u001b[43mboard1\u001b[49m\u001b[43m,\u001b[49m\u001b[43m \u001b[49m\u001b[43mchess\u001b[49m\u001b[43m.\u001b[49m\u001b[43mengine\u001b[49m\u001b[43m.\u001b[49m\u001b[43mLimit\u001b[49m\u001b[43m(\u001b[49m\u001b[43mtime\u001b[49m\u001b[43m=\u001b[49m\u001b[32;43m0.2\u001b[39;49m\u001b[43m)\u001b[49m\u001b[43m)\u001b[49m\n\u001b[32m     31\u001b[39m board1.push(result.move)\n\u001b[32m     32\u001b[39m \u001b[38;5;66;03m# print(board)\u001b[39;00m\n\u001b[32m     33\u001b[39m \u001b[38;5;66;03m# print()\u001b[39;00m\n",
      "\u001b[36mFile \u001b[39m\u001b[32m~/Documents/C.E.R.C.I./ChessEnv/lib/python3.12/site-packages/chess/engine.py:2980\u001b[39m, in \u001b[36mSimpleEngine.play\u001b[39m\u001b[34m(self, board, limit, game, info, ponder, draw_offered, root_moves, options, opponent)\u001b[39m\n\u001b[32m   2976\u001b[39m     coro = asyncio.wait_for(\n\u001b[32m   2977\u001b[39m         \u001b[38;5;28mself\u001b[39m.protocol.play(board, limit, game=game, info=info, ponder=ponder, draw_offered=draw_offered, root_moves=root_moves, options=options, opponent=opponent),\n\u001b[32m   2978\u001b[39m         \u001b[38;5;28mself\u001b[39m._timeout_for(limit))\n\u001b[32m   2979\u001b[39m     future = asyncio.run_coroutine_threadsafe(coro, \u001b[38;5;28mself\u001b[39m.protocol.loop)\n\u001b[32m-> \u001b[39m\u001b[32m2980\u001b[39m \u001b[38;5;28;01mreturn\u001b[39;00m \u001b[43mfuture\u001b[49m\u001b[43m.\u001b[49m\u001b[43mresult\u001b[49m\u001b[43m(\u001b[49m\u001b[43m)\u001b[49m\n",
      "\u001b[36mFile \u001b[39m\u001b[32m/usr/lib/python3.12/concurrent/futures/_base.py:456\u001b[39m, in \u001b[36mFuture.result\u001b[39m\u001b[34m(self, timeout)\u001b[39m\n\u001b[32m    454\u001b[39m     \u001b[38;5;28;01mraise\u001b[39;00m CancelledError()\n\u001b[32m    455\u001b[39m \u001b[38;5;28;01melif\u001b[39;00m \u001b[38;5;28mself\u001b[39m._state == FINISHED:\n\u001b[32m--> \u001b[39m\u001b[32m456\u001b[39m     \u001b[38;5;28;01mreturn\u001b[39;00m \u001b[38;5;28;43mself\u001b[39;49m\u001b[43m.\u001b[49m\u001b[43m__get_result\u001b[49m\u001b[43m(\u001b[49m\u001b[43m)\u001b[49m\n\u001b[32m    457\u001b[39m \u001b[38;5;28;01melse\u001b[39;00m:\n\u001b[32m    458\u001b[39m     \u001b[38;5;28;01mraise\u001b[39;00m \u001b[38;5;167;01mTimeoutError\u001b[39;00m()\n",
      "\u001b[36mFile \u001b[39m\u001b[32m/usr/lib/python3.12/concurrent/futures/_base.py:401\u001b[39m, in \u001b[36mFuture.__get_result\u001b[39m\u001b[34m(self)\u001b[39m\n\u001b[32m    399\u001b[39m \u001b[38;5;28;01mif\u001b[39;00m \u001b[38;5;28mself\u001b[39m._exception:\n\u001b[32m    400\u001b[39m     \u001b[38;5;28;01mtry\u001b[39;00m:\n\u001b[32m--> \u001b[39m\u001b[32m401\u001b[39m         \u001b[38;5;28;01mraise\u001b[39;00m \u001b[38;5;28mself\u001b[39m._exception\n\u001b[32m    402\u001b[39m     \u001b[38;5;28;01mfinally\u001b[39;00m:\n\u001b[32m    403\u001b[39m         \u001b[38;5;66;03m# Break a reference cycle with the exception in self._exception\u001b[39;00m\n\u001b[32m    404\u001b[39m         \u001b[38;5;28mself\u001b[39m = \u001b[38;5;28;01mNone\u001b[39;00m\n",
      "\u001b[31mTimeoutError\u001b[39m: "
     ]
    }
   ],
   "source": [
    "test_name = \"Improvement\"\n",
    "\n",
    "filename = f\"{results_folder}/{engine[1]}-{test_name}.txt\"\n",
    "if os.path.isfile(filename):\n",
    "    with open(filename, \"r\", encoding=\"utf-8\") as f:\n",
    "        raport = f.read()\n",
    "else:\n",
    "    passed, report = run_improvement_tests(engine[0])\n",
    "    with open(filename, \"w\", encoding=\"utf-8\") as f:\n",
    "        f.write(report)\n",
    "print(report)"
   ]
  },
  {
   "cell_type": "code",
   "execution_count": null,
   "id": "e585fb1e",
   "metadata": {},
   "outputs": [],
   "source": []
  }
 ],
 "metadata": {
  "kernelspec": {
   "display_name": "ChessEnv (3.12.3)",
   "language": "python",
   "name": "python3"
  },
  "language_info": {
   "codemirror_mode": {
    "name": "ipython",
    "version": 3
   },
   "file_extension": ".py",
   "mimetype": "text/x-python",
   "name": "python",
   "nbconvert_exporter": "python",
   "pygments_lexer": "ipython3",
   "version": "3.12.3"
  }
 },
 "nbformat": 4,
 "nbformat_minor": 5
}
